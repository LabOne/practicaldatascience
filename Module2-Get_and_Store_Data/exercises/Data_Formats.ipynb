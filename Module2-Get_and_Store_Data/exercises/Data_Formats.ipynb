{
 "cells": [
  {
   "cell_type": "markdown",
   "metadata": {},
   "source": [
    "# XML"
   ]
  },
  {
   "cell_type": "code",
   "execution_count": 5,
   "metadata": {
    "collapsed": false
   },
   "outputs": [
    {
     "name": "stdout",
     "output_type": "stream",
     "text": [
      "Name:  John Doe\n",
      "Attr:  yes\n"
     ]
    }
   ],
   "source": [
    "import xml.etree.ElementTree as ET\n",
    "\n",
    "xml='''<Student>\n",
    "  <Name>John Doe</Name>\n",
    "  <Phone type=\"intl\">+1 925 123 4567</Phone>\n",
    "  <Email hide=\"yes\"/>\n",
    "</Student>\n",
    "'''\n",
    "tree = ET.fromstring(xml)\n",
    "print('Name: ',tree.find('Name').text)\n",
    "print('Attr: ',tree.find('Email').get('hide'))"
   ]
  },
  {
   "cell_type": "code",
   "execution_count": 6,
   "metadata": {
    "collapsed": false
   },
   "outputs": [],
   "source": [
    "import xml.etree.ElementTree as ET\n",
    "xml='''<University>\n",
    "  <Students>\n",
    "    <Student id=\"1\">\n",
    "      <Name>John Doe</Name>\n",
    "      <Phone>+1 925 123 4567</Phone>\n",
    "    </Student>\n",
    "    <Student id=\"2\">\n",
    "      <Name>Sarah Connor</Name>\n",
    "      <Phone>+1 925 456 7890</Phone>\n",
    "    </Student>\n",
    "  </Students>\n",
    "</University>\n",
    "'''"
   ]
  },
  {
   "cell_type": "code",
   "execution_count": 7,
   "metadata": {
    "collapsed": false
   },
   "outputs": [
    {
     "name": "stdout",
     "output_type": "stream",
     "text": [
      "Student count:  2\n"
     ]
    }
   ],
   "source": [
    "univ = ET.fromstring(xml)\n",
    "studs = univ.findall('Students/Student')\n",
    "print('Student count: ',len(studs))"
   ]
  },
  {
   "cell_type": "code",
   "execution_count": 10,
   "metadata": {
    "collapsed": false
   },
   "outputs": [
    {
     "name": "stdout",
     "output_type": "stream",
     "text": [
      "ID:  1\n",
      "Name:  John Doe\n",
      "Phone:  +1 925 123 4567\n",
      "ID:  2\n",
      "Name:  Sarah Connor\n",
      "Phone:  +1 925 456 7890\n"
     ]
    }
   ],
   "source": [
    "for stud in studs:\n",
    "    print(\"ID: \",stud.get(\"id\"))\n",
    "    print(\"Name: \",stud.find('Name').text)\n",
    "    print(\"Phone: \",stud.find('Phone').text)"
   ]
  },
  {
   "cell_type": "markdown",
   "metadata": {},
   "source": [
    "# JSON"
   ]
  },
  {
   "cell_type": "code",
   "execution_count": 16,
   "metadata": {
    "collapsed": true
   },
   "outputs": [],
   "source": [
    "import json\n",
    "data = '''{\n",
    "  \"Name\" : \"John Doe\",\n",
    "  \"Phone\" : {\n",
    "    \"Type\" : \"intl\",\n",
    "    \"Number\" : \"+1 925 123 4567\"\n",
    "  },\n",
    "  \"Email\" : {\n",
    "    \"hide\" : \"yes\"\n",
    "  }\n",
    "}'''"
   ]
  },
  {
   "cell_type": "code",
   "execution_count": 18,
   "metadata": {
    "collapsed": false
   },
   "outputs": [
    {
     "name": "stdout",
     "output_type": "stream",
     "text": [
      "Name:  John Doe\n",
      "Hide:  yes\n"
     ]
    }
   ],
   "source": [
    "info = json.loads(data)\n",
    "print(\"Name: \",info[\"Name\"])\n",
    "print(\"Hide: \",info[\"Email\"][\"hide\"])"
   ]
  },
  {
   "cell_type": "code",
   "execution_count": 21,
   "metadata": {
    "collapsed": true
   },
   "outputs": [],
   "source": [
    "import json\n",
    "data = '''[\n",
    "  { \"id\" : \"1\",\n",
    "    \"Name\" : \"John Doe\",\n",
    "    \"Phone\" : \"+1 925 123 4567\"\n",
    "  },\n",
    "  { \"id\" : \"2\",\n",
    "    \"Name\" : \"Sarah Connor\",\n",
    "    \"Phone\" : \"+1 925 456 7890\"\n",
    "  }\n",
    "]\n",
    "'''"
   ]
  },
  {
   "cell_type": "code",
   "execution_count": 24,
   "metadata": {
    "collapsed": false
   },
   "outputs": [
    {
     "name": "stdout",
     "output_type": "stream",
     "text": [
      "Student count:  2\n",
      "ID:  1\n",
      "Name:  John Doe\n",
      "Phone:  +1 925 123 4567\n",
      "ID:  2\n",
      "Name:  Sarah Connor\n",
      "Phone:  +1 925 456 7890\n"
     ]
    }
   ],
   "source": [
    "info = json.loads(data)\n",
    "print(\"Student count: \",len(info))\n",
    "for item in info:\n",
    "    print(\"ID: \",item[\"id\"])\n",
    "    print(\"Name: \",item[\"Name\"])\n",
    "    print(\"Phone: \",item[\"Phone\"])"
   ]
  },
  {
   "cell_type": "code",
   "execution_count": null,
   "metadata": {
    "collapsed": true
   },
   "outputs": [],
   "source": []
  }
 ],
 "metadata": {
  "kernelspec": {
   "display_name": "Python [default]",
   "language": "python",
   "name": "python3"
  },
  "language_info": {
   "codemirror_mode": {
    "name": "ipython",
    "version": 3
   },
   "file_extension": ".py",
   "mimetype": "text/x-python",
   "name": "python",
   "nbconvert_exporter": "python",
   "pygments_lexer": "ipython3",
   "version": "3.5.2"
  }
 },
 "nbformat": 4,
 "nbformat_minor": 2
}

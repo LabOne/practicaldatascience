{
 "cells": [
  {
   "cell_type": "markdown",
   "metadata": {},
   "source": [
    "# Google Maps API"
   ]
  },
  {
   "cell_type": "code",
   "execution_count": 7,
   "metadata": {
    "collapsed": true
   },
   "outputs": [],
   "source": [
    "import urllib\n",
    "import urllib.request\n",
    "import json"
   ]
  },
  {
   "cell_type": "code",
   "execution_count": 15,
   "metadata": {
    "collapsed": false
   },
   "outputs": [
    {
     "name": "stdout",
     "output_type": "stream",
     "text": [
      "Retrieving  http://maps.googleapis.com/maps/api/geocode/json?sensor=false&address=Ann+Arbor%2CMI\n",
      "Retrieved  1736  characters\n"
     ]
    }
   ],
   "source": [
    "serviceurl = 'http://maps.googleapis.com/maps/api/geocode/json?'\n",
    "\n",
    "address = \"Ann Arbor,MI\"\n",
    "url = serviceurl + urllib.parse.urlencode({'sensor':'false','address':address})\n",
    "print(\"Retrieving \",url)\n",
    "uh = urllib.request.urlopen(url)\n",
    "data = uh.read()\n",
    "print(\"Retrieved \",len(data),\" characters\")"
   ]
  },
  {
   "cell_type": "code",
   "execution_count": null,
   "metadata": {
    "collapsed": true
   },
   "outputs": [],
   "source": [
    "try: js = json.loads(str(data))\n",
    "except: js = None\n",
    "\n",
    "if \"status\" not in js or js[\"status\"]!=\"OK\":\n",
    "    print(\"Failure to retrieve\")\n",
    "\n",
    "print(json.dumps(js,indent=4))\n",
    "\n",
    "lat = js[\"results\"][0][\"geometry\"][\"location\"][\"lat\"]\n",
    "lng = js[\"results\"][0][\"geometry\"][\"location\"][\"lng\"]\n",
    "\n",
    "print(\"Latitude: \",lat,\" Longitude: \",lng)\n",
    "location = js[\"results\"][0]['formatted_address']\n",
    "print(location)"
   ]
  },
  {
   "cell_type": "code",
   "execution_count": null,
   "metadata": {
    "collapsed": true
   },
   "outputs": [],
   "source": []
  }
 ],
 "metadata": {
  "anaconda-cloud": {},
  "kernelspec": {
   "display_name": "Python [default]",
   "language": "python",
   "name": "python3"
  },
  "language_info": {
   "codemirror_mode": {
    "name": "ipython",
    "version": 3
   },
   "file_extension": ".py",
   "mimetype": "text/x-python",
   "name": "python",
   "nbconvert_exporter": "python",
   "pygments_lexer": "ipython3",
   "version": "3.5.2"
  }
 },
 "nbformat": 4,
 "nbformat_minor": 2
}
